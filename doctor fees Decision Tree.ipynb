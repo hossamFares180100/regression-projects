{
 "cells": [
  {
   "cell_type": "markdown",
   "id": "efa7b239",
   "metadata": {
    "colab_type": "text",
    "id": "r3cas2_1T98w"
   },
   "source": [
    "# Decision Tree Regression"
   ]
  },
  {
   "cell_type": "markdown",
   "id": "56d728d2",
   "metadata": {
    "colab_type": "text",
    "id": "IODliia6U1xO"
   },
   "source": [
    "## Importing the libraries"
   ]
  },
  {
   "cell_type": "code",
   "execution_count": 19,
   "id": "988bcf51",
   "metadata": {
    "colab": {},
    "colab_type": "code",
    "id": "y98nA5UdU6Hf"
   },
   "outputs": [],
   "source": [
    "import numpy as np\n",
    "import matplotlib.pyplot as plt\n",
    "import pandas as pd"
   ]
  },
  {
   "cell_type": "markdown",
   "id": "fb101387",
   "metadata": {
    "colab_type": "text",
    "id": "jpjZ43YlU8eI"
   },
   "source": [
    "## Importing the dataset"
   ]
  },
  {
   "cell_type": "code",
   "execution_count": 20,
   "id": "3e72148c",
   "metadata": {},
   "outputs": [
    {
     "data": {
      "text/html": [
       "<div>\n",
       "<style scoped>\n",
       "    .dataframe tbody tr th:only-of-type {\n",
       "        vertical-align: middle;\n",
       "    }\n",
       "\n",
       "    .dataframe tbody tr th {\n",
       "        vertical-align: top;\n",
       "    }\n",
       "\n",
       "    .dataframe thead th {\n",
       "        text-align: right;\n",
       "    }\n",
       "</style>\n",
       "<table border=\"1\" class=\"dataframe\">\n",
       "  <thead>\n",
       "    <tr style=\"text-align: right;\">\n",
       "      <th></th>\n",
       "      <th>Doctor Name</th>\n",
       "      <th>City</th>\n",
       "      <th>Specialization</th>\n",
       "      <th>Doctor Qualification</th>\n",
       "      <th>Experience(Years)</th>\n",
       "      <th>Total_Reviews</th>\n",
       "      <th>Patient Satisfaction Rate(%age)</th>\n",
       "      <th>Avg Time to Patients(mins)</th>\n",
       "      <th>Wait Time(mins)</th>\n",
       "      <th>Hospital Address</th>\n",
       "      <th>Doctors Link</th>\n",
       "      <th>Fee(PKR)</th>\n",
       "    </tr>\n",
       "  </thead>\n",
       "  <tbody>\n",
       "    <tr>\n",
       "      <th>0</th>\n",
       "      <td>Prof. Dr. Syed Shamsuddin</td>\n",
       "      <td>QUETTA</td>\n",
       "      <td>Dermatologist</td>\n",
       "      <td>MBBS, MCPS, FCPS</td>\n",
       "      <td>30.0</td>\n",
       "      <td>827</td>\n",
       "      <td>98</td>\n",
       "      <td>14.0</td>\n",
       "      <td>13</td>\n",
       "      <td>National Hospital, Near Quetta Laboratory Prin...</td>\n",
       "      <td>https://www.marham.pk/doctors/quetta/dermatolo...</td>\n",
       "      <td>5000.0</td>\n",
       "    </tr>\n",
       "    <tr>\n",
       "      <th>1</th>\n",
       "      <td>Dr. Jaffar Ali</td>\n",
       "      <td>QUETTA</td>\n",
       "      <td>Dermatologist</td>\n",
       "      <td>MBBS, MCPS (Dermatology), FDV (Austria)</td>\n",
       "      <td>32.0</td>\n",
       "      <td>1250</td>\n",
       "      <td>97</td>\n",
       "      <td>16.0</td>\n",
       "      <td>13</td>\n",
       "      <td>Quetta Hospital, Quetta City, Quetta</td>\n",
       "      <td>https://www.marham.pk/doctors/quetta/dermatolo...</td>\n",
       "      <td>3000.0</td>\n",
       "    </tr>\n",
       "    <tr>\n",
       "      <th>2</th>\n",
       "      <td>Asst. Prof. Dr. Syed Bilal Shams</td>\n",
       "      <td>QUETTA</td>\n",
       "      <td>Dermatologist, Cosmetic Surgeon</td>\n",
       "      <td>MBBS, FCPS (Dermatology), Fellowship In Dermat...</td>\n",
       "      <td>15.0</td>\n",
       "      <td>1294</td>\n",
       "      <td>99</td>\n",
       "      <td>15.0</td>\n",
       "      <td>15</td>\n",
       "      <td>Skin Center Dermatologist Dr. Syed Bilal Ahmed...</td>\n",
       "      <td>https://www.marham.pk/doctors/quetta/dermatolo...</td>\n",
       "      <td>5000.0</td>\n",
       "    </tr>\n",
       "    <tr>\n",
       "      <th>3</th>\n",
       "      <td>Asst. Prof. Dr. Surjeet Kumar</td>\n",
       "      <td>QUETTA</td>\n",
       "      <td>Dermatologist</td>\n",
       "      <td>MBBS, FCPS(Dermatology)</td>\n",
       "      <td>12.0</td>\n",
       "      <td>114</td>\n",
       "      <td>99</td>\n",
       "      <td>14.0</td>\n",
       "      <td>7</td>\n",
       "      <td>Doctors Hospital, Quetta City, Quetta</td>\n",
       "      <td>https://www.marham.pk/doctors/quetta/dermatolo...</td>\n",
       "      <td>2000.0</td>\n",
       "    </tr>\n",
       "    <tr>\n",
       "      <th>4</th>\n",
       "      <td>Dr. Palwasha Jalil</td>\n",
       "      <td>QUETTA</td>\n",
       "      <td>Dermatologist</td>\n",
       "      <td>MBBS, FCPS (Dermatology) Agha Khan University</td>\n",
       "      <td>8.0</td>\n",
       "      <td>24</td>\n",
       "      <td>100</td>\n",
       "      <td>19.0</td>\n",
       "      <td>16</td>\n",
       "      <td>Aria Institute Of Medical And Health Sciences,...</td>\n",
       "      <td>https://www.marham.pk/doctors/quetta/dermatolo...</td>\n",
       "      <td>1500.0</td>\n",
       "    </tr>\n",
       "  </tbody>\n",
       "</table>\n",
       "</div>"
      ],
      "text/plain": [
       "                        Doctor Name    City                   Specialization  \\\n",
       "0         Prof. Dr. Syed Shamsuddin  QUETTA                    Dermatologist   \n",
       "1                    Dr. Jaffar Ali  QUETTA                    Dermatologist   \n",
       "2  Asst. Prof. Dr. Syed Bilal Shams  QUETTA  Dermatologist, Cosmetic Surgeon   \n",
       "3     Asst. Prof. Dr. Surjeet Kumar  QUETTA                    Dermatologist   \n",
       "4                Dr. Palwasha Jalil  QUETTA                    Dermatologist   \n",
       "\n",
       "                                Doctor Qualification  Experience(Years)  \\\n",
       "0                                   MBBS, MCPS, FCPS               30.0   \n",
       "1            MBBS, MCPS (Dermatology), FDV (Austria)               32.0   \n",
       "2  MBBS, FCPS (Dermatology), Fellowship In Dermat...               15.0   \n",
       "3                            MBBS, FCPS(Dermatology)               12.0   \n",
       "4      MBBS, FCPS (Dermatology) Agha Khan University                8.0   \n",
       "\n",
       "   Total_Reviews  Patient Satisfaction Rate(%age)  Avg Time to Patients(mins)  \\\n",
       "0            827                               98                        14.0   \n",
       "1           1250                               97                        16.0   \n",
       "2           1294                               99                        15.0   \n",
       "3            114                               99                        14.0   \n",
       "4             24                              100                        19.0   \n",
       "\n",
       "   Wait Time(mins)                                   Hospital Address  \\\n",
       "0               13  National Hospital, Near Quetta Laboratory Prin...   \n",
       "1               13               Quetta Hospital, Quetta City, Quetta   \n",
       "2               15  Skin Center Dermatologist Dr. Syed Bilal Ahmed...   \n",
       "3                7              Doctors Hospital, Quetta City, Quetta   \n",
       "4               16  Aria Institute Of Medical And Health Sciences,...   \n",
       "\n",
       "                                        Doctors Link  Fee(PKR)  \n",
       "0  https://www.marham.pk/doctors/quetta/dermatolo...    5000.0  \n",
       "1  https://www.marham.pk/doctors/quetta/dermatolo...    3000.0  \n",
       "2  https://www.marham.pk/doctors/quetta/dermatolo...    5000.0  \n",
       "3  https://www.marham.pk/doctors/quetta/dermatolo...    2000.0  \n",
       "4  https://www.marham.pk/doctors/quetta/dermatolo...    1500.0  "
      ]
     },
     "execution_count": 20,
     "metadata": {},
     "output_type": "execute_result"
    }
   ],
   "source": [
    "data = pd.read_csv('doctor fees.csv')\n",
    "data.head(5)"
   ]
  },
  {
   "cell_type": "code",
   "execution_count": 21,
   "id": "14f253c8",
   "metadata": {},
   "outputs": [
    {
     "name": "stdout",
     "output_type": "stream",
     "text": [
      "<class 'pandas.core.frame.DataFrame'>\n",
      "RangeIndex: 2652 entries, 0 to 2651\n",
      "Data columns (total 12 columns):\n",
      " #   Column                           Non-Null Count  Dtype  \n",
      "---  ------                           --------------  -----  \n",
      " 0   Doctor Name                      2652 non-null   object \n",
      " 1   City                             2652 non-null   object \n",
      " 2   Specialization                   2652 non-null   object \n",
      " 3   Doctor Qualification             2652 non-null   object \n",
      " 4   Experience(Years)                2652 non-null   float64\n",
      " 5   Total_Reviews                    2652 non-null   int64  \n",
      " 6   Patient Satisfaction Rate(%age)  2652 non-null   int64  \n",
      " 7   Avg Time to Patients(mins)       2646 non-null   float64\n",
      " 8   Wait Time(mins)                  2652 non-null   int64  \n",
      " 9   Hospital Address                 2648 non-null   object \n",
      " 10  Doctors Link                     2652 non-null   object \n",
      " 11  Fee(PKR)                         2651 non-null   float64\n",
      "dtypes: float64(3), int64(3), object(6)\n",
      "memory usage: 248.8+ KB\n"
     ]
    }
   ],
   "source": [
    "data.info()"
   ]
  },
  {
   "cell_type": "markdown",
   "id": "3ba1f87c",
   "metadata": {},
   "source": [
    "# 1-Handling missing data"
   ]
  },
  {
   "cell_type": "code",
   "execution_count": 22,
   "id": "e3136f8f",
   "metadata": {},
   "outputs": [
    {
     "data": {
      "text/plain": [
       "Doctor Name                        0\n",
       "City                               0\n",
       "Specialization                     0\n",
       "Doctor Qualification               0\n",
       "Experience(Years)                  0\n",
       "Total_Reviews                      0\n",
       "Patient Satisfaction Rate(%age)    0\n",
       "Avg Time to Patients(mins)         6\n",
       "Wait Time(mins)                    0\n",
       "Hospital Address                   4\n",
       "Doctors Link                       0\n",
       "Fee(PKR)                           1\n",
       "dtype: int64"
      ]
     },
     "execution_count": 22,
     "metadata": {},
     "output_type": "execute_result"
    }
   ],
   "source": [
    "# get the number of missing data points per column\n",
    "missing_values_count = data.isnull().sum()\n",
    "\n",
    "# look at the # of missing points \n",
    "missing_values_count"
   ]
  },
  {
   "cell_type": "code",
   "execution_count": 23,
   "id": "15f0495a",
   "metadata": {},
   "outputs": [
    {
     "data": {
      "text/html": [
       "<div>\n",
       "<style scoped>\n",
       "    .dataframe tbody tr th:only-of-type {\n",
       "        vertical-align: middle;\n",
       "    }\n",
       "\n",
       "    .dataframe tbody tr th {\n",
       "        vertical-align: top;\n",
       "    }\n",
       "\n",
       "    .dataframe thead th {\n",
       "        text-align: right;\n",
       "    }\n",
       "</style>\n",
       "<table border=\"1\" class=\"dataframe\">\n",
       "  <thead>\n",
       "    <tr style=\"text-align: right;\">\n",
       "      <th></th>\n",
       "      <th>Doctor Name</th>\n",
       "      <th>City</th>\n",
       "      <th>Specialization</th>\n",
       "      <th>Doctor Qualification</th>\n",
       "      <th>Experience(Years)</th>\n",
       "      <th>Total_Reviews</th>\n",
       "      <th>Patient Satisfaction Rate(%age)</th>\n",
       "      <th>Avg Time to Patients(mins)</th>\n",
       "      <th>Wait Time(mins)</th>\n",
       "      <th>Hospital Address</th>\n",
       "      <th>Doctors Link</th>\n",
       "      <th>Fee(PKR)</th>\n",
       "    </tr>\n",
       "  </thead>\n",
       "  <tbody>\n",
       "    <tr>\n",
       "      <th>0</th>\n",
       "      <td>Prof. Dr. Syed Shamsuddin</td>\n",
       "      <td>QUETTA</td>\n",
       "      <td>Dermatologist</td>\n",
       "      <td>MBBS, MCPS, FCPS</td>\n",
       "      <td>30.0</td>\n",
       "      <td>827</td>\n",
       "      <td>98</td>\n",
       "      <td>14.0</td>\n",
       "      <td>13</td>\n",
       "      <td>National Hospital, Near Quetta Laboratory Prin...</td>\n",
       "      <td>https://www.marham.pk/doctors/quetta/dermatolo...</td>\n",
       "      <td>5000.0</td>\n",
       "    </tr>\n",
       "    <tr>\n",
       "      <th>1</th>\n",
       "      <td>Dr. Jaffar Ali</td>\n",
       "      <td>QUETTA</td>\n",
       "      <td>Dermatologist</td>\n",
       "      <td>MBBS, MCPS (Dermatology), FDV (Austria)</td>\n",
       "      <td>32.0</td>\n",
       "      <td>1250</td>\n",
       "      <td>97</td>\n",
       "      <td>16.0</td>\n",
       "      <td>13</td>\n",
       "      <td>Quetta Hospital, Quetta City, Quetta</td>\n",
       "      <td>https://www.marham.pk/doctors/quetta/dermatolo...</td>\n",
       "      <td>3000.0</td>\n",
       "    </tr>\n",
       "    <tr>\n",
       "      <th>2</th>\n",
       "      <td>Asst. Prof. Dr. Syed Bilal Shams</td>\n",
       "      <td>QUETTA</td>\n",
       "      <td>Dermatologist, Cosmetic Surgeon</td>\n",
       "      <td>MBBS, FCPS (Dermatology), Fellowship In Dermat...</td>\n",
       "      <td>15.0</td>\n",
       "      <td>1294</td>\n",
       "      <td>99</td>\n",
       "      <td>15.0</td>\n",
       "      <td>15</td>\n",
       "      <td>Skin Center Dermatologist Dr. Syed Bilal Ahmed...</td>\n",
       "      <td>https://www.marham.pk/doctors/quetta/dermatolo...</td>\n",
       "      <td>5000.0</td>\n",
       "    </tr>\n",
       "    <tr>\n",
       "      <th>3</th>\n",
       "      <td>Asst. Prof. Dr. Surjeet Kumar</td>\n",
       "      <td>QUETTA</td>\n",
       "      <td>Dermatologist</td>\n",
       "      <td>MBBS, FCPS(Dermatology)</td>\n",
       "      <td>12.0</td>\n",
       "      <td>114</td>\n",
       "      <td>99</td>\n",
       "      <td>14.0</td>\n",
       "      <td>7</td>\n",
       "      <td>Doctors Hospital, Quetta City, Quetta</td>\n",
       "      <td>https://www.marham.pk/doctors/quetta/dermatolo...</td>\n",
       "      <td>2000.0</td>\n",
       "    </tr>\n",
       "    <tr>\n",
       "      <th>4</th>\n",
       "      <td>Dr. Palwasha Jalil</td>\n",
       "      <td>QUETTA</td>\n",
       "      <td>Dermatologist</td>\n",
       "      <td>MBBS, FCPS (Dermatology) Agha Khan University</td>\n",
       "      <td>8.0</td>\n",
       "      <td>24</td>\n",
       "      <td>100</td>\n",
       "      <td>19.0</td>\n",
       "      <td>16</td>\n",
       "      <td>Aria Institute Of Medical And Health Sciences,...</td>\n",
       "      <td>https://www.marham.pk/doctors/quetta/dermatolo...</td>\n",
       "      <td>1500.0</td>\n",
       "    </tr>\n",
       "  </tbody>\n",
       "</table>\n",
       "</div>"
      ],
      "text/plain": [
       "                        Doctor Name    City                   Specialization  \\\n",
       "0         Prof. Dr. Syed Shamsuddin  QUETTA                    Dermatologist   \n",
       "1                    Dr. Jaffar Ali  QUETTA                    Dermatologist   \n",
       "2  Asst. Prof. Dr. Syed Bilal Shams  QUETTA  Dermatologist, Cosmetic Surgeon   \n",
       "3     Asst. Prof. Dr. Surjeet Kumar  QUETTA                    Dermatologist   \n",
       "4                Dr. Palwasha Jalil  QUETTA                    Dermatologist   \n",
       "\n",
       "                                Doctor Qualification  Experience(Years)  \\\n",
       "0                                   MBBS, MCPS, FCPS               30.0   \n",
       "1            MBBS, MCPS (Dermatology), FDV (Austria)               32.0   \n",
       "2  MBBS, FCPS (Dermatology), Fellowship In Dermat...               15.0   \n",
       "3                            MBBS, FCPS(Dermatology)               12.0   \n",
       "4      MBBS, FCPS (Dermatology) Agha Khan University                8.0   \n",
       "\n",
       "   Total_Reviews  Patient Satisfaction Rate(%age)  Avg Time to Patients(mins)  \\\n",
       "0            827                               98                        14.0   \n",
       "1           1250                               97                        16.0   \n",
       "2           1294                               99                        15.0   \n",
       "3            114                               99                        14.0   \n",
       "4             24                              100                        19.0   \n",
       "\n",
       "   Wait Time(mins)                                   Hospital Address  \\\n",
       "0               13  National Hospital, Near Quetta Laboratory Prin...   \n",
       "1               13               Quetta Hospital, Quetta City, Quetta   \n",
       "2               15  Skin Center Dermatologist Dr. Syed Bilal Ahmed...   \n",
       "3                7              Doctors Hospital, Quetta City, Quetta   \n",
       "4               16  Aria Institute Of Medical And Health Sciences,...   \n",
       "\n",
       "                                        Doctors Link  Fee(PKR)  \n",
       "0  https://www.marham.pk/doctors/quetta/dermatolo...    5000.0  \n",
       "1  https://www.marham.pk/doctors/quetta/dermatolo...    3000.0  \n",
       "2  https://www.marham.pk/doctors/quetta/dermatolo...    5000.0  \n",
       "3  https://www.marham.pk/doctors/quetta/dermatolo...    2000.0  \n",
       "4  https://www.marham.pk/doctors/quetta/dermatolo...    1500.0  "
      ]
     },
     "execution_count": 23,
     "metadata": {},
     "output_type": "execute_result"
    }
   ],
   "source": [
    "# replace all the null value in numerical columns with the average and for categorcial columns with mode\n",
    "data_clean = data.copy()\n",
    "data_clean['Avg Time to Patients(mins)'] = data['Avg Time to Patients(mins)'].fillna(data['Avg Time to Patients(mins)'].mean())\n",
    "data_clean['Hospital Address'] = data[\"Hospital Address\"].fillna(data['Hospital Address'].mode()[0])\n",
    "data_clean['Fee(PKR)'] = data['Fee(PKR)'].fillna(data['Fee(PKR)'].mean())\n",
    "data_clean.head()"
   ]
  },
  {
   "cell_type": "code",
   "execution_count": 24,
   "id": "a8f43e38",
   "metadata": {},
   "outputs": [
    {
     "data": {
      "text/plain": [
       "Doctor Name                        0\n",
       "City                               0\n",
       "Specialization                     0\n",
       "Doctor Qualification               0\n",
       "Experience(Years)                  0\n",
       "Total_Reviews                      0\n",
       "Patient Satisfaction Rate(%age)    0\n",
       "Avg Time to Patients(mins)         0\n",
       "Wait Time(mins)                    0\n",
       "Hospital Address                   0\n",
       "Doctors Link                       0\n",
       "Fee(PKR)                           0\n",
       "dtype: int64"
      ]
     },
     "execution_count": 24,
     "metadata": {},
     "output_type": "execute_result"
    }
   ],
   "source": [
    "data_clean.isnull().sum()"
   ]
  },
  {
   "cell_type": "markdown",
   "id": "07764b2a",
   "metadata": {},
   "source": [
    "# 2-Encoding Categorical Data"
   ]
  },
  {
   "cell_type": "code",
   "execution_count": 25,
   "id": "d799bcc8",
   "metadata": {},
   "outputs": [
    {
     "data": {
      "text/plain": [
       "(2652, 9)"
      ]
     },
     "execution_count": 25,
     "metadata": {},
     "output_type": "execute_result"
    }
   ],
   "source": [
    "from sklearn.compose import ColumnTransformer\n",
    "from sklearn.preprocessing import OneHotEncoder\n",
    "y = data_clean.iloc[:, -1].values\n",
    "data_clean.drop(\"Fee(PKR)\",axis=1,inplace = True)\n",
    "data_clean.drop(\"Doctors Link\",axis=1,inplace = True)\n",
    "data_clean.drop(\"Doctor Name\",axis=1,inplace = True)\n",
    "X = data_clean.iloc[:, 0:].values\n",
    "X.shape"
   ]
  },
  {
   "cell_type": "code",
   "execution_count": 26,
   "id": "bf276a97",
   "metadata": {},
   "outputs": [
    {
     "data": {
      "text/plain": [
       "array(['QUETTA', 'Dermatologist', 'MBBS, MCPS, FCPS', 30.0, 827, 98, 14.0,\n",
       "       13,\n",
       "       'National Hospital, Near Quetta Laboratory Prince Road, Quetta'],\n",
       "      dtype=object)"
      ]
     },
     "execution_count": 26,
     "metadata": {},
     "output_type": "execute_result"
    }
   ],
   "source": [
    "X[0]"
   ]
  },
  {
   "cell_type": "code",
   "execution_count": 27,
   "id": "ef96d5cd",
   "metadata": {},
   "outputs": [],
   "source": [
    "ct = ColumnTransformer(transformers=[('encoder', OneHotEncoder(), [0,1,2,8])], remainder='passthrough')\n",
    "X =ct.fit_transform(X).toarray()"
   ]
  },
  {
   "cell_type": "code",
   "execution_count": 28,
   "id": "5392b7e9",
   "metadata": {},
   "outputs": [
    {
     "name": "stdout",
     "output_type": "stream",
     "text": [
      "(2652, 2677)\n",
      "(2652,)\n"
     ]
    }
   ],
   "source": [
    "print(X.shape)\n",
    "print(y.shape)"
   ]
  },
  {
   "cell_type": "markdown",
   "id": "7f7ee144",
   "metadata": {},
   "source": [
    "# 3-Feature Scaling"
   ]
  },
  {
   "cell_type": "code",
   "execution_count": 29,
   "id": "94db380d",
   "metadata": {},
   "outputs": [],
   "source": [
    "from sklearn.preprocessing import StandardScaler\n",
    "scaler = StandardScaler()\n",
    "scaler.fit(X)\n",
    "X_scalled = scaler.transform(X)"
   ]
  },
  {
   "cell_type": "markdown",
   "id": "bc6d8326",
   "metadata": {},
   "source": [
    "# 4-Splitting the dataset into training and test sets"
   ]
  },
  {
   "cell_type": "code",
   "execution_count": 30,
   "id": "db2de5e7",
   "metadata": {},
   "outputs": [],
   "source": [
    "from sklearn.model_selection import train_test_split\n",
    "X_train, X_test, Y_train, Y_test = train_test_split(X_scalled, y, test_size=0.2, random_state=0)"
   ]
  },
  {
   "cell_type": "markdown",
   "id": "8b5bfb0c",
   "metadata": {},
   "source": [
    "# 5-Decision Tree Regression"
   ]
  },
  {
   "cell_type": "code",
   "execution_count": 31,
   "id": "8751e386",
   "metadata": {},
   "outputs": [
    {
     "data": {
      "text/plain": [
       "DecisionTreeRegressor(random_state=0)"
      ]
     },
     "execution_count": 31,
     "metadata": {},
     "output_type": "execute_result"
    }
   ],
   "source": [
    "from sklearn.tree import DecisionTreeRegressor\n",
    "\n",
    "# Define model. Specify a number for random_state to ensure same results each run\n",
    "model = DecisionTreeRegressor(random_state=0)\n",
    "model.fit(X_train,Y_train)"
   ]
  },
  {
   "cell_type": "code",
   "execution_count": 32,
   "id": "3c0c2abc",
   "metadata": {},
   "outputs": [
    {
     "name": "stdout",
     "output_type": "stream",
     "text": [
      "Mean absolute error train = 2.44\n",
      "Mean squared error train= 736.29\n",
      "Median absolute error train= 0.0\n",
      "Explain variance score train= 1.0\n",
      "R2 score train= 1.0\n"
     ]
    }
   ],
   "source": [
    "import sklearn.metrics as sm\n",
    "Y_pred = model.predict(X_train)\n",
    "print(\"Mean absolute error train =\", round(sm.mean_absolute_error(Y_train, Y_pred), 2)) \n",
    "print(\"Mean squared error train=\", round(sm.mean_squared_error(Y_train, Y_pred), 2)) \n",
    "print(\"Median absolute error train=\", round(sm.median_absolute_error(Y_train, Y_pred), 2)) \n",
    "print(\"Explain variance score train=\", round(sm.explained_variance_score(Y_train, Y_pred), 2)) \n",
    "print(\"R2 score train=\", round(sm.r2_score(Y_train, Y_pred), 2))\n",
    "#An R2 score near 1 means that the model is able to predict the data very well. Keeping track of every single metric can get tedious, so we pick one or two metrics to evaluate our model. A good practice is to make sure that the mean squared error is low and the explained variance score is high."
   ]
  },
  {
   "cell_type": "markdown",
   "id": "23eaf873",
   "metadata": {
    "colab_type": "text",
    "id": "stOnSo74E52m"
   },
   "source": [
    "## Visualising the Decision Tree results"
   ]
  },
  {
   "cell_type": "code",
   "execution_count": 18,
   "id": "42f9b45f",
   "metadata": {
    "colab": {
     "base_uri": "https://localhost:8080/",
     "height": 295
    },
    "colab_type": "code",
    "id": "UCOcurIQE7Zv",
    "outputId": "93927499-de98-4a31-a619-c373926cbe56"
   },
   "outputs": [
    {
     "data": {
      "image/png": "[encoded data removed]",
      "text/plain": [
       "<Figure size 432x288 with 1 Axes>"
      ]
     },
     "metadata": {
      "needs_background": "light"
     },
     "output_type": "display_data"
    }
   ],
   "source": [
    "# Plotting actual vs predicted values\n",
    "# Predict the target values\n",
    "Y_pred = model.predict(X_train)\n",
    "plt.scatter(Y_train, Y_pred, color='red')\n",
    "plt.plot([Y_train.min(), Y_train.max()], [Y_train.min(), Y_train.max()], 'k--', lw=4)\n",
    "plt.xlabel('Actual')\n",
    "plt.ylabel('Predicted')\n",
    "plt.title('Actual vs Predicted')\n",
    "plt.show()"
   ]
  },
  {
   "cell_type": "code",
   "execution_count": null,
   "id": "2a8ab75f",
   "metadata": {},
   "outputs": [],
   "source": []
  }
 ],
 "metadata": {
  "kernelspec": {
   "display_name": "Python 3",
   "language": "python",
   "name": "python3"
  },
  "language_info": {
   "codemirror_mode": {
    "name": "ipython",
    "version": 3
   },
   "file_extension": ".py",
   "mimetype": "text/x-python",
   "name": "python",
   "nbconvert_exporter": "python",
   "pygments_lexer": "ipython3",
   "version": "3.8.8"
  }
 },
 "nbformat": 4,
 "nbformat_minor": 5
}
